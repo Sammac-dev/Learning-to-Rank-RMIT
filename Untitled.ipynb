{
 "cells": [
  {
   "cell_type": "code",
   "execution_count": 61,
   "id": "ffd27e5d",
   "metadata": {
    "ExecuteTime": {
     "end_time": "2021-10-08T05:32:41.283228Z",
     "start_time": "2021-10-08T05:32:41.273212Z"
    }
   },
   "outputs": [],
   "source": [
    "import pandas as pd\n",
    "import numpy as np\n",
    "import xgboost as xgb\n",
    "from sklearn.model_selection import cross_val_score\n",
    "from sklearn.model_selection import GroupShuffleSplit\n",
    "from xgboost import XGBRegressor\n",
    "import optuna\n",
    "from optuna import Trial, visualization\n",
    "from optuna.samplers import TPESampler\n",
    "from optuna.visualization import plot_optimization_history\n",
    "from sklearn.metrics import ndcg_score\n",
    "import plotly\n",
    "import joblib"
   ]
  },
  {
   "cell_type": "code",
   "execution_count": 126,
   "id": "88ddc5ed",
   "metadata": {
    "ExecuteTime": {
     "end_time": "2021-10-08T11:14:39.501057Z",
     "start_time": "2021-10-08T11:14:39.007236Z"
    }
   },
   "outputs": [],
   "source": [
    "traindf = pd.read_csv(\"train.tsv\",sep='\\t')\n",
    "testdf = pd.read_csv(\"test.tsv\",sep='\\t')\n",
    "\n",
    "# ORIGINAL CODE\n",
    "seed=8\n",
    "gss = GroupShuffleSplit(test_size=.4, n_splits=1,random_state=seed).split(traindf,groups=traindf['#QueryID'])\n",
    "\n",
    "X_train_inds, X_test_inds = next(gss)\n",
    "\n",
    "train_data = traindf.iloc[X_train_inds]\n",
    "X_train = train_data.loc[:,~train_data.columns.isin(['#QueryID','Docid','Label'])]\n",
    "y_train = train_data.loc[:, train_data.columns.isin(['Label'])]\n",
    "\n",
    "groups = train_data.groupby('#QueryID').size().to_frame('size')['size'].to_numpy()\n",
    "\n",
    "test_data = traindf.iloc[X_test_inds]\n",
    "\n",
    "X_test = test_data.loc[:, ~test_data.columns.isin(['Label'])] #drop #QueryId and Docid too?\n",
    "y_test = test_data.loc[:, test_data.columns.isin(['#QueryID','Docid','Label'])]\n",
    "# ==================================================================================\n",
    "\n",
    "# X_train = train_data.loc[:,~train_data.columns.isin(['Label'])]\n",
    "\n",
    "groups2 = traindf.groupby('#QueryID').size().to_frame('size')['size'].to_numpy()\n",
    "\n",
    "X = traindf.loc[:, ~traindf.columns.isin(['Label','#QueryID','Docid'])]\n",
    "y = traindf.loc[:, traindf.columns.isin(['Label'])]\n",
    "\n",
    "X2 =  traindf.loc[:, ~traindf.columns.isin(['Label'])]\n",
    "# X = traindf.loc[:, ~traindf.columns.isin(['Label','Docid'])]\n",
    "# y = traindf.loc[:, traindf.columns.isin(['Label','#QueryID'])]\n"
   ]
  },
  {
   "cell_type": "code",
   "execution_count": 5,
   "id": "58896cf6",
   "metadata": {
    "ExecuteTime": {
     "end_time": "2021-10-08T04:21:05.400099Z",
     "start_time": "2021-10-08T04:21:05.384622Z"
    }
   },
   "outputs": [],
   "source": [
    "# Hyperparameter tuning\n",
    "\n",
    "def objective(trial: Trial, X,y,groups,X2) -> float:\n",
    "    \n",
    "    param = {\n",
    "                \"n_estimators\" : trial.suggest_int('n_estimators', 0, 1000),\n",
    "                'tree_method': 'hist',\n",
    "                'booster':trial.suggest_categorical('booster',['gbtree','gblinear']),\n",
    "                'objective':'rank:ndcg',\n",
    "                'max_depth':trial.suggest_int('max_depth', 2, 25),\n",
    "                'eval_metric': 'ndcg',\n",
    "                'reg_alpha':trial.suggest_int('reg_alpha', 0, 5),\n",
    "                'reg_lambda':trial.suggest_int('reg_lambda', 0, 5),\n",
    "                'min_child_weight':trial.suggest_int('min_child_weight', 0, 5),\n",
    "                'gamma':trial.suggest_int('gamma', 0, 5),\n",
    "                'learning_rate':trial.suggest_loguniform('learning_rate',0.005,0.5),\n",
    "                'colsample_bytree':trial.suggest_discrete_uniform('colsample_bytree',0.1,1,0.01),\n",
    "                'nthread' : -1\n",
    "            }\n",
    "    \n",
    "    model = xgb.XGBRanker(**param,use_label_encoder=False)\n",
    "    model.fit(X,y,group=groups)\n",
    "    \n",
    "    pred = X2.groupby(['#QueryID','Docid']).apply(lambda x:predict(model,X2))\n",
    "    y_pred = pred.reset_index()[0].apply(lambda x : x[0])\n",
    "    y_true = y['Label']\n",
    "    \n",
    "    return ndcg_score([np.asarray(y_true)],[np.asarray(y_pred)])\n",
    "#     return cross_val_score(model, X,y,cv=10,scoring='r2',groups=groups).mean()"
   ]
  },
  {
   "cell_type": "code",
   "execution_count": 127,
   "id": "d54c5e38",
   "metadata": {
    "ExecuteTime": {
     "end_time": "2021-10-08T11:14:45.369781Z",
     "start_time": "2021-10-08T11:14:44.025138Z"
    }
   },
   "outputs": [
    {
     "data": {
      "text/plain": [
       "XGBRanker(base_score=0.5, booster='gbtree', colsample_bylevel=1,\n",
       "          colsample_bynode=1, colsample_bytree=0.9, eta=0.05, gamma=0,\n",
       "          gpu_id=-1, importance_type='gain', interaction_constraints='',\n",
       "          learning_rate=0.1, max_delta_step=0, max_depth=6, min_child_weight=1,\n",
       "          missing=nan, monotone_constraints='()', n_estimators=110, n_jobs=8,\n",
       "          num_parallel_tree=1, objective='rank:ndcg', random_state=42,\n",
       "          reg_alpha=0, reg_lambda=1, scale_pos_weight=None, subsample=0.75,\n",
       "          tree_method='hist', validate_parameters=1, verbosity=None)"
      ]
     },
     "execution_count": 127,
     "metadata": {},
     "output_type": "execute_result"
    }
   ],
   "source": [
    "# model = xgb.XGBRanker(  \n",
    "#     tree_method='auto',\n",
    "#     booster='gbtree',\n",
    "#     objective='rank:ndcg',\n",
    "#     eval_metric='ndcg',\n",
    "#     reg_alpha= 0,\n",
    "#     reg_lambda= 4,\n",
    "#     random_state=42,\n",
    "#     min_child_weight=0,\n",
    "#     gamma=1,\n",
    "#     learning_rate=0.11449,\n",
    "#     colsample_bytree=0.67, \n",
    "# #     eta=0.05, \n",
    "#     max_depth=21, \n",
    "#     n_estimators=740, \n",
    "# #     subsample=0.75 \n",
    "#     )\n",
    "\n",
    "model = xgb.XGBRanker(  \n",
    "    tree_method='hist',\n",
    "    booster='gbtree',\n",
    "    objective='rank:ndcg',\n",
    "    random_state=42, \n",
    "    learning_rate=0.1,\n",
    "    colsample_bytree=0.9, \n",
    "    eta=0.05, \n",
    "    max_depth=6, \n",
    "    n_estimators=110, \n",
    "    subsample=0.75 \n",
    "    )\n",
    "\n",
    "# model = xgb.XGBRanker(  \n",
    "#     tree_method='hist',\n",
    "#     booster='gbtree',\n",
    "#     objective='rank:ndcg',\n",
    "#     eval_metric='ndcg',\n",
    "#     random_state=42,\n",
    "#     learning_rate=0.11449,\n",
    "#     colsample_bytree=0.67, \n",
    "#     max_depth=21, \n",
    "#     )\n",
    "\n",
    "model.fit(X_train, y_train, group=groups, verbose=True)\n",
    "# model.fit(X, y, group=groups2, verbose=True)"
   ]
  },
  {
   "cell_type": "code",
   "execution_count": 57,
   "id": "99d67bdc",
   "metadata": {
    "ExecuteTime": {
     "end_time": "2021-10-08T05:23:02.959274Z",
     "start_time": "2021-10-08T05:23:02.945476Z"
    }
   },
   "outputs": [],
   "source": [
    "def predict(model, df):\n",
    "    return model.predict(df.loc[:, ~df.columns.isin(['#QueryID','Docid'])])"
   ]
  },
  {
   "cell_type": "code",
   "execution_count": 114,
   "id": "3fc74064",
   "metadata": {
    "ExecuteTime": {
     "end_time": "2021-10-08T06:12:01.249047Z",
     "start_time": "2021-10-08T06:09:49.662922Z"
    }
   },
   "outputs": [],
   "source": [
    "# # FULL SET PREDICTIONS\n",
    "# predictions = (X2.groupby(['#QueryID','Docid'])\n",
    "#                .apply(lambda x: predict(model, x)))\n",
    "# yp1 = predictions.reset_index()[0].apply(lambda x : x[0])\n",
    "# yt1= y['Label']"
   ]
  },
  {
   "cell_type": "code",
   "execution_count": 121,
   "id": "d8f7385e",
   "metadata": {
    "ExecuteTime": {
     "end_time": "2021-10-08T10:46:44.181853Z",
     "start_time": "2021-10-08T10:46:44.126869Z"
    }
   },
   "outputs": [
    {
     "data": {
      "text/html": [
       "<div>\n",
       "<style scoped>\n",
       "    .dataframe tbody tr th:only-of-type {\n",
       "        vertical-align: middle;\n",
       "    }\n",
       "\n",
       "    .dataframe tbody tr th {\n",
       "        vertical-align: top;\n",
       "    }\n",
       "\n",
       "    .dataframe thead th {\n",
       "        text-align: right;\n",
       "    }\n",
       "</style>\n",
       "<table border=\"1\" class=\"dataframe\">\n",
       "  <thead>\n",
       "    <tr style=\"text-align: right;\">\n",
       "      <th></th>\n",
       "      <th>#QueryID</th>\n",
       "      <th>BodyTerms</th>\n",
       "      <th>AnchorTerms</th>\n",
       "      <th>TitleTerms</th>\n",
       "      <th>URLTerms</th>\n",
       "      <th>TermsWholeDocument</th>\n",
       "      <th>IDFBody</th>\n",
       "      <th>IDFAnchor</th>\n",
       "      <th>IDFTitle</th>\n",
       "      <th>IDFURL</th>\n",
       "      <th>...</th>\n",
       "      <th>LMIRIMTitle</th>\n",
       "      <th>LMIRIMURL</th>\n",
       "      <th>LMIRIMWholeDocument</th>\n",
       "      <th>PageRank</th>\n",
       "      <th>InlinkNum</th>\n",
       "      <th>OutlinkNum</th>\n",
       "      <th>NumSlashURL</th>\n",
       "      <th>LenURL</th>\n",
       "      <th>NumChildPages</th>\n",
       "      <th>Docid</th>\n",
       "    </tr>\n",
       "  </thead>\n",
       "  <tbody>\n",
       "    <tr>\n",
       "      <th>0</th>\n",
       "      <td>77d4aadf</td>\n",
       "      <td>0.000000</td>\n",
       "      <td>0.0</td>\n",
       "      <td>0.0</td>\n",
       "      <td>0.0</td>\n",
       "      <td>0.000000</td>\n",
       "      <td>0.0</td>\n",
       "      <td>0.0</td>\n",
       "      <td>0.0</td>\n",
       "      <td>0.0</td>\n",
       "      <td>...</td>\n",
       "      <td>0.000000</td>\n",
       "      <td>0.000000</td>\n",
       "      <td>0.000000</td>\n",
       "      <td>0.014820</td>\n",
       "      <td>0.076923</td>\n",
       "      <td>0.000000</td>\n",
       "      <td>0.500000</td>\n",
       "      <td>0.275862</td>\n",
       "      <td>0.000000</td>\n",
       "      <td>f0123013322f</td>\n",
       "    </tr>\n",
       "    <tr>\n",
       "      <th>1</th>\n",
       "      <td>77d4aadf</td>\n",
       "      <td>0.000000</td>\n",
       "      <td>0.0</td>\n",
       "      <td>0.0</td>\n",
       "      <td>0.0</td>\n",
       "      <td>0.000000</td>\n",
       "      <td>0.0</td>\n",
       "      <td>0.0</td>\n",
       "      <td>0.0</td>\n",
       "      <td>0.0</td>\n",
       "      <td>...</td>\n",
       "      <td>0.000000</td>\n",
       "      <td>0.000000</td>\n",
       "      <td>0.000000</td>\n",
       "      <td>0.000000</td>\n",
       "      <td>0.000000</td>\n",
       "      <td>0.017241</td>\n",
       "      <td>0.000000</td>\n",
       "      <td>0.000000</td>\n",
       "      <td>0.000000</td>\n",
       "      <td>93cefec12b2c</td>\n",
       "    </tr>\n",
       "    <tr>\n",
       "      <th>2</th>\n",
       "      <td>77d4aadf</td>\n",
       "      <td>0.000272</td>\n",
       "      <td>0.0</td>\n",
       "      <td>0.0</td>\n",
       "      <td>0.0</td>\n",
       "      <td>0.000272</td>\n",
       "      <td>0.0</td>\n",
       "      <td>0.0</td>\n",
       "      <td>0.0</td>\n",
       "      <td>0.0</td>\n",
       "      <td>...</td>\n",
       "      <td>0.000000</td>\n",
       "      <td>0.000000</td>\n",
       "      <td>0.000000</td>\n",
       "      <td>0.005416</td>\n",
       "      <td>0.076923</td>\n",
       "      <td>0.000000</td>\n",
       "      <td>0.833333</td>\n",
       "      <td>1.000000</td>\n",
       "      <td>0.000000</td>\n",
       "      <td>b963e5cb7764</td>\n",
       "    </tr>\n",
       "    <tr>\n",
       "      <th>3</th>\n",
       "      <td>77d4aadf</td>\n",
       "      <td>0.000545</td>\n",
       "      <td>0.0</td>\n",
       "      <td>0.0</td>\n",
       "      <td>0.0</td>\n",
       "      <td>0.000544</td>\n",
       "      <td>0.0</td>\n",
       "      <td>0.0</td>\n",
       "      <td>0.0</td>\n",
       "      <td>0.0</td>\n",
       "      <td>...</td>\n",
       "      <td>0.579345</td>\n",
       "      <td>0.217697</td>\n",
       "      <td>0.556259</td>\n",
       "      <td>0.202903</td>\n",
       "      <td>0.076923</td>\n",
       "      <td>0.000000</td>\n",
       "      <td>0.333333</td>\n",
       "      <td>0.252874</td>\n",
       "      <td>0.000000</td>\n",
       "      <td>65cbeb4dba8a</td>\n",
       "    </tr>\n",
       "    <tr>\n",
       "      <th>4</th>\n",
       "      <td>77d4aadf</td>\n",
       "      <td>0.001634</td>\n",
       "      <td>0.0</td>\n",
       "      <td>0.5</td>\n",
       "      <td>0.0</td>\n",
       "      <td>0.002177</td>\n",
       "      <td>0.0</td>\n",
       "      <td>0.0</td>\n",
       "      <td>0.0</td>\n",
       "      <td>0.0</td>\n",
       "      <td>...</td>\n",
       "      <td>0.577392</td>\n",
       "      <td>0.512464</td>\n",
       "      <td>0.627241</td>\n",
       "      <td>0.000000</td>\n",
       "      <td>0.000000</td>\n",
       "      <td>0.000000</td>\n",
       "      <td>0.833333</td>\n",
       "      <td>0.908046</td>\n",
       "      <td>0.000000</td>\n",
       "      <td>bba7ca2b7b70</td>\n",
       "    </tr>\n",
       "    <tr>\n",
       "      <th>...</th>\n",
       "      <td>...</td>\n",
       "      <td>...</td>\n",
       "      <td>...</td>\n",
       "      <td>...</td>\n",
       "      <td>...</td>\n",
       "      <td>...</td>\n",
       "      <td>...</td>\n",
       "      <td>...</td>\n",
       "      <td>...</td>\n",
       "      <td>...</td>\n",
       "      <td>...</td>\n",
       "      <td>...</td>\n",
       "      <td>...</td>\n",
       "      <td>...</td>\n",
       "      <td>...</td>\n",
       "      <td>...</td>\n",
       "      <td>...</td>\n",
       "      <td>...</td>\n",
       "      <td>...</td>\n",
       "      <td>...</td>\n",
       "      <td>...</td>\n",
       "    </tr>\n",
       "    <tr>\n",
       "      <th>74204</th>\n",
       "      <td>d513a525</td>\n",
       "      <td>0.083333</td>\n",
       "      <td>0.0</td>\n",
       "      <td>1.0</td>\n",
       "      <td>0.5</td>\n",
       "      <td>0.147059</td>\n",
       "      <td>0.0</td>\n",
       "      <td>0.0</td>\n",
       "      <td>0.0</td>\n",
       "      <td>0.0</td>\n",
       "      <td>...</td>\n",
       "      <td>0.926792</td>\n",
       "      <td>0.400905</td>\n",
       "      <td>0.911823</td>\n",
       "      <td>0.666667</td>\n",
       "      <td>0.387500</td>\n",
       "      <td>0.000000</td>\n",
       "      <td>0.000000</td>\n",
       "      <td>0.000000</td>\n",
       "      <td>0.090909</td>\n",
       "      <td>5cbc12264e78</td>\n",
       "    </tr>\n",
       "    <tr>\n",
       "      <th>74205</th>\n",
       "      <td>d513a525</td>\n",
       "      <td>0.333333</td>\n",
       "      <td>0.0</td>\n",
       "      <td>0.0</td>\n",
       "      <td>0.0</td>\n",
       "      <td>0.294118</td>\n",
       "      <td>0.0</td>\n",
       "      <td>0.0</td>\n",
       "      <td>0.0</td>\n",
       "      <td>0.0</td>\n",
       "      <td>...</td>\n",
       "      <td>0.280928</td>\n",
       "      <td>0.227387</td>\n",
       "      <td>0.337392</td>\n",
       "      <td>0.333333</td>\n",
       "      <td>0.050000</td>\n",
       "      <td>0.000000</td>\n",
       "      <td>0.061669</td>\n",
       "      <td>0.100000</td>\n",
       "      <td>0.181818</td>\n",
       "      <td>f0ff696db96a</td>\n",
       "    </tr>\n",
       "    <tr>\n",
       "      <th>74206</th>\n",
       "      <td>d513a525</td>\n",
       "      <td>0.555556</td>\n",
       "      <td>0.0</td>\n",
       "      <td>1.0</td>\n",
       "      <td>0.0</td>\n",
       "      <td>0.588235</td>\n",
       "      <td>0.0</td>\n",
       "      <td>0.0</td>\n",
       "      <td>0.0</td>\n",
       "      <td>0.0</td>\n",
       "      <td>...</td>\n",
       "      <td>0.899914</td>\n",
       "      <td>0.669448</td>\n",
       "      <td>0.883048</td>\n",
       "      <td>1.000000</td>\n",
       "      <td>0.262500</td>\n",
       "      <td>0.000000</td>\n",
       "      <td>0.000000</td>\n",
       "      <td>0.000000</td>\n",
       "      <td>0.000000</td>\n",
       "      <td>327184da2d43</td>\n",
       "    </tr>\n",
       "    <tr>\n",
       "      <th>74207</th>\n",
       "      <td>d513a525</td>\n",
       "      <td>0.916667</td>\n",
       "      <td>0.0</td>\n",
       "      <td>0.5</td>\n",
       "      <td>0.0</td>\n",
       "      <td>0.941176</td>\n",
       "      <td>0.0</td>\n",
       "      <td>0.0</td>\n",
       "      <td>0.0</td>\n",
       "      <td>0.0</td>\n",
       "      <td>...</td>\n",
       "      <td>0.675018</td>\n",
       "      <td>1.000000</td>\n",
       "      <td>0.618304</td>\n",
       "      <td>0.333333</td>\n",
       "      <td>0.062500</td>\n",
       "      <td>0.000000</td>\n",
       "      <td>0.201170</td>\n",
       "      <td>0.800000</td>\n",
       "      <td>0.272727</td>\n",
       "      <td>3542a13fb0fa</td>\n",
       "    </tr>\n",
       "    <tr>\n",
       "      <th>74208</th>\n",
       "      <td>d513a525</td>\n",
       "      <td>1.000000</td>\n",
       "      <td>0.0</td>\n",
       "      <td>0.0</td>\n",
       "      <td>0.0</td>\n",
       "      <td>1.000000</td>\n",
       "      <td>0.0</td>\n",
       "      <td>0.0</td>\n",
       "      <td>0.0</td>\n",
       "      <td>0.0</td>\n",
       "      <td>...</td>\n",
       "      <td>0.000000</td>\n",
       "      <td>0.108484</td>\n",
       "      <td>0.000000</td>\n",
       "      <td>1.000000</td>\n",
       "      <td>0.237500</td>\n",
       "      <td>0.000000</td>\n",
       "      <td>0.019988</td>\n",
       "      <td>0.100000</td>\n",
       "      <td>1.000000</td>\n",
       "      <td>fbbd157b2f39</td>\n",
       "    </tr>\n",
       "  </tbody>\n",
       "</table>\n",
       "<p>67120 rows × 48 columns</p>\n",
       "</div>"
      ],
      "text/plain": [
       "       #QueryID  BodyTerms  AnchorTerms  TitleTerms  URLTerms  \\\n",
       "0      77d4aadf   0.000000          0.0         0.0       0.0   \n",
       "1      77d4aadf   0.000000          0.0         0.0       0.0   \n",
       "2      77d4aadf   0.000272          0.0         0.0       0.0   \n",
       "3      77d4aadf   0.000545          0.0         0.0       0.0   \n",
       "4      77d4aadf   0.001634          0.0         0.5       0.0   \n",
       "...         ...        ...          ...         ...       ...   \n",
       "74204  d513a525   0.083333          0.0         1.0       0.5   \n",
       "74205  d513a525   0.333333          0.0         0.0       0.0   \n",
       "74206  d513a525   0.555556          0.0         1.0       0.0   \n",
       "74207  d513a525   0.916667          0.0         0.5       0.0   \n",
       "74208  d513a525   1.000000          0.0         0.0       0.0   \n",
       "\n",
       "       TermsWholeDocument  IDFBody  IDFAnchor  IDFTitle  IDFURL  ...  \\\n",
       "0                0.000000      0.0        0.0       0.0     0.0  ...   \n",
       "1                0.000000      0.0        0.0       0.0     0.0  ...   \n",
       "2                0.000272      0.0        0.0       0.0     0.0  ...   \n",
       "3                0.000544      0.0        0.0       0.0     0.0  ...   \n",
       "4                0.002177      0.0        0.0       0.0     0.0  ...   \n",
       "...                   ...      ...        ...       ...     ...  ...   \n",
       "74204            0.147059      0.0        0.0       0.0     0.0  ...   \n",
       "74205            0.294118      0.0        0.0       0.0     0.0  ...   \n",
       "74206            0.588235      0.0        0.0       0.0     0.0  ...   \n",
       "74207            0.941176      0.0        0.0       0.0     0.0  ...   \n",
       "74208            1.000000      0.0        0.0       0.0     0.0  ...   \n",
       "\n",
       "       LMIRIMTitle  LMIRIMURL  LMIRIMWholeDocument  PageRank  InlinkNum  \\\n",
       "0         0.000000   0.000000             0.000000  0.014820   0.076923   \n",
       "1         0.000000   0.000000             0.000000  0.000000   0.000000   \n",
       "2         0.000000   0.000000             0.000000  0.005416   0.076923   \n",
       "3         0.579345   0.217697             0.556259  0.202903   0.076923   \n",
       "4         0.577392   0.512464             0.627241  0.000000   0.000000   \n",
       "...            ...        ...                  ...       ...        ...   \n",
       "74204     0.926792   0.400905             0.911823  0.666667   0.387500   \n",
       "74205     0.280928   0.227387             0.337392  0.333333   0.050000   \n",
       "74206     0.899914   0.669448             0.883048  1.000000   0.262500   \n",
       "74207     0.675018   1.000000             0.618304  0.333333   0.062500   \n",
       "74208     0.000000   0.108484             0.000000  1.000000   0.237500   \n",
       "\n",
       "       OutlinkNum  NumSlashURL    LenURL  NumChildPages         Docid  \n",
       "0        0.000000     0.500000  0.275862       0.000000  f0123013322f  \n",
       "1        0.017241     0.000000  0.000000       0.000000  93cefec12b2c  \n",
       "2        0.000000     0.833333  1.000000       0.000000  b963e5cb7764  \n",
       "3        0.000000     0.333333  0.252874       0.000000  65cbeb4dba8a  \n",
       "4        0.000000     0.833333  0.908046       0.000000  bba7ca2b7b70  \n",
       "...           ...          ...       ...            ...           ...  \n",
       "74204    0.000000     0.000000  0.000000       0.090909  5cbc12264e78  \n",
       "74205    0.000000     0.061669  0.100000       0.181818  f0ff696db96a  \n",
       "74206    0.000000     0.000000  0.000000       0.000000  327184da2d43  \n",
       "74207    0.000000     0.201170  0.800000       0.272727  3542a13fb0fa  \n",
       "74208    0.000000     0.019988  0.100000       1.000000  fbbd157b2f39  \n",
       "\n",
       "[67120 rows x 48 columns]"
      ]
     },
     "execution_count": 121,
     "metadata": {},
     "output_type": "execute_result"
    }
   ],
   "source": [
    "X_test"
   ]
  },
  {
   "cell_type": "code",
   "execution_count": 128,
   "id": "0f05f23b",
   "metadata": {
    "ExecuteTime": {
     "end_time": "2021-10-08T11:15:41.271164Z",
     "start_time": "2021-10-08T11:14:55.858442Z"
    }
   },
   "outputs": [],
   "source": [
    "# SPLIT SET PREDICITONS\n",
    "predictions = (X_test.groupby(['#QueryID','Docid'])\n",
    "               .apply(lambda x: predict(model, x)))\n",
    "yp1 = predictions.reset_index()[0].apply(lambda x : x[0])\n",
    "yt1= y_test['Label']"
   ]
  },
  {
   "cell_type": "code",
   "execution_count": 129,
   "id": "6752da6b",
   "metadata": {
    "ExecuteTime": {
     "end_time": "2021-10-08T11:15:41.475950Z",
     "start_time": "2021-10-08T11:15:41.461281Z"
    }
   },
   "outputs": [
    {
     "data": {
      "text/plain": [
       "0.7961500618512523"
      ]
     },
     "execution_count": 129,
     "metadata": {},
     "output_type": "execute_result"
    }
   ],
   "source": [
    "ndcg_score(y_true=[np.asarray(yt1)],y_score=[np.asarray(yp1)])"
   ]
  },
  {
   "cell_type": "code",
   "execution_count": 132,
   "id": "83810e7a",
   "metadata": {
    "ExecuteTime": {
     "end_time": "2021-10-08T11:16:13.781221Z",
     "start_time": "2021-10-08T11:16:13.777226Z"
    }
   },
   "outputs": [
    {
     "name": "stdout",
     "output_type": "stream",
     "text": [
      "X_train: 44090\n",
      "X_test: 30126\n"
     ]
    }
   ],
   "source": [
    "print(\"X_train:\",len(X_train))\n",
    "print(\"X_test:\",len(X_test))\n"
   ]
  },
  {
   "cell_type": "code",
   "execution_count": 125,
   "id": "974f47ea",
   "metadata": {
    "ExecuteTime": {
     "end_time": "2021-10-08T10:59:36.265056Z",
     "start_time": "2021-10-08T10:59:36.257426Z"
    }
   },
   "outputs": [
    {
     "data": {
      "text/plain": [
       "67120"
      ]
     },
     "execution_count": 125,
     "metadata": {},
     "output_type": "execute_result"
    }
   ],
   "source": [
    "len(predictions)"
   ]
  },
  {
   "cell_type": "code",
   "execution_count": 116,
   "id": "53d0f130",
   "metadata": {
    "ExecuteTime": {
     "end_time": "2021-10-08T06:13:00.502114Z",
     "start_time": "2021-10-08T06:13:00.488433Z"
    }
   },
   "outputs": [
    {
     "name": "stdout",
     "output_type": "stream",
     "text": [
      "X_train: 7096\n",
      "X_test: 67120\n"
     ]
    }
   ],
   "source": []
  },
  {
   "cell_type": "markdown",
   "id": "1e6919fb",
   "metadata": {},
   "source": [
    "100/100 (Optimised) : 0.824\n",
    "100/100 (Original)  : 0.823\n",
    "99/100  (Original)  : 0.823\n",
    "01/100  (Original)  : 0.825\n",
    "\n",
    "   train/test %             NDCG\n",
    " \n",
    "Split 99/01 (Optimised) : 0.647\n",
    "Split 90/10 (Optimised) : 0.772\n",
    "Split 60/40 (Optimised) : 0.797\n",
    "Split 50/50 (Optimised) : 0.805\n",
    "Split 30/70 (Optimised) : 0.789\n",
    "Split 10/90 (Optimised) : 0.820\n",
    "Split 01/99 (Optimised) : 0.826\n",
    "\n",
    "Split 99/01 (Original)  : 0.657\n",
    "Split 90/10 (Original)  : 0.772\n",
    "Split 60/40 (Original)  : 0.796\n",
    "Split 50/50 (Original)  : 0.806\n",
    "Split 30/70 (Original)  : 0.815\n",
    "Split 10/90 (Original)  : 0.824\n",
    "Split 01/99 (Original)  : 0.825\n",
    "\n",
    "Split 0.1/99.9 (Original): 0.772\n",
    "\n",
    "Cross validaton\n",
    "weight optimiser\n",
    "\n",
    "\n",
    "NOTE: CHECK PREDICITON FUNCTION IS USING TEST DATA PROPERLY"
   ]
  }
 ],
 "metadata": {
  "kernelspec": {
   "display_name": "Python [conda env:pds] *",
   "language": "python",
   "name": "conda-env-pds-py"
  },
  "language_info": {
   "codemirror_mode": {
    "name": "ipython",
    "version": 3
   },
   "file_extension": ".py",
   "mimetype": "text/x-python",
   "name": "python",
   "nbconvert_exporter": "python",
   "pygments_lexer": "ipython3",
   "version": "3.8.8"
  },
  "varInspector": {
   "cols": {
    "lenName": 16,
    "lenType": 16,
    "lenVar": 40
   },
   "kernels_config": {
    "python": {
     "delete_cmd_postfix": "",
     "delete_cmd_prefix": "del ",
     "library": "var_list.py",
     "varRefreshCmd": "print(var_dic_list())"
    },
    "r": {
     "delete_cmd_postfix": ") ",
     "delete_cmd_prefix": "rm(",
     "library": "var_list.r",
     "varRefreshCmd": "cat(var_dic_list()) "
    }
   },
   "types_to_exclude": [
    "module",
    "function",
    "builtin_function_or_method",
    "instance",
    "_Feature"
   ],
   "window_display": false
  }
 },
 "nbformat": 4,
 "nbformat_minor": 5
}
